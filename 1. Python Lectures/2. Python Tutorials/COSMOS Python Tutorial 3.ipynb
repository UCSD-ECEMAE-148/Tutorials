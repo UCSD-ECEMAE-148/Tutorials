{
 "cells": [
  {
   "cell_type": "code",
   "execution_count": 4,
   "id": "1c835811",
   "metadata": {},
   "outputs": [
    {
     "name": "stdout",
     "output_type": "stream",
     "text": [
      "[]\n",
      "['apples']\n",
      "['apples', 'mangoes']\n",
      "['apples', 'oranges', 'mangoes']\n",
      "None\n",
      "['apples', 'mangoes']\n"
     ]
    }
   ],
   "source": [
    "#List_Appending\n",
    "\n",
    "new_list=[] #creating an empty_list\n",
    "print(new_list)\n",
    "new_list.append(\"apples\") #Appending apples at the end\n",
    "print(new_list)\n",
    "new_list.append(\"mangoes\") #Appending mangoes at the end\n",
    "print(new_list)\n",
    "new_list.insert(1,\"oranges\") #Inserting oranges at index1\n",
    "print(new_list)\n",
    "\n",
    "# removed_item=new_list.pop(1)\n",
    "# print(removed_item)\n",
    "# print(new_list)\n",
    "\n",
    "removed_item = new_list.remove(\"oranges\")\n",
    "print(removed_item)\n",
    "print(new_list)"
   ]
  },
  {
   "cell_type": "markdown",
   "id": "cb07c41b",
   "metadata": {},
   "source": [
    "#### Nesting of lists and indexing"
   ]
  },
  {
   "cell_type": "code",
   "execution_count": 11,
   "id": "23d2934f",
   "metadata": {},
   "outputs": [
    {
     "name": "stdout",
     "output_type": "stream",
     "text": [
      "['apples', 'oranges', 'kiwi', 'cherries', 'books', 'pens', 'pencils', 'markers']\n",
      "[['apples', 'oranges', 'kiwi', 'cherries'], ['books', 'pens', 'pencils', 'markers']]\n",
      "['apples', 'oranges', 'kiwi', 'cherries']\n",
      "['books', 'pens', 'pencils', 'markers']\n",
      "kiwi\n",
      "markers\n",
      "1\n",
      "Unpacking list: apples oranges kiwi cherries\n"
     ]
    }
   ],
   "source": [
    "Fruits=['apples','oranges','kiwi','cherries']\n",
    "Stationary=['books','pens','pencils','markers']\n",
    "print(Fruits+Stationary)\n",
    "Shopping =[Fruits,Stationary]\n",
    "print(Shopping)\n",
    "print(Shopping[0])\n",
    "print(Shopping[1])\n",
    "#Accessing elements in individual list\n",
    "print(Shopping[0][2])\n",
    "print(Shopping[1][3])\n",
    "print(Shopping[1].index('pens'))\n",
    "#unpacking of lists\n",
    "a,b,c,d=Fruits\n",
    "print(\"Unpacking list:\",a,b,c,d)"
   ]
  },
  {
   "cell_type": "markdown",
   "id": "9f9daa96",
   "metadata": {},
   "source": [
    "### Tuples in Python: <br>\n",
    "A Tuple is an ordered collection of Python objects separated by commas. In someways a tuple is similar to a list in terms of indexing, nested objects and repetition but a tuple is immutable unlike lists which are mutable. Tuples can be intialised by just listing out the contents. Tuple can also contains non homogenous data types. Tuples can always be unpacked succesfully."
   ]
  },
  {
   "cell_type": "code",
   "execution_count": 18,
   "id": "8182d641",
   "metadata": {},
   "outputs": [
    {
     "name": "stdout",
     "output_type": "stream",
     "text": [
      "['__add__', '__class__', '__contains__', '__delattr__', '__dir__', '__doc__', '__eq__', '__format__', '__ge__', '__getattribute__', '__getitem__', '__getnewargs__', '__gt__', '__hash__', '__init__', '__init_subclass__', '__iter__', '__le__', '__len__', '__lt__', '__mul__', '__ne__', '__new__', '__reduce__', '__reduce_ex__', '__repr__', '__rmul__', '__setattr__', '__sizeof__', '__str__', '__subclasshook__', 'count', 'index']\n"
     ]
    }
   ],
   "source": [
    "tup_1=('apples','oranges','kiwi','cherries')\n",
    "len(tup_1)\n",
    "# print(dir(Fruits))\n",
    "print(dir(tup_1))\n"
   ]
  },
  {
   "cell_type": "code",
   "execution_count": 19,
   "id": "560b899c",
   "metadata": {},
   "outputs": [
    {
     "name": "stdout",
     "output_type": "stream",
     "text": [
      "('apples', 'oranges', 'kiwi', 'cherries', 'books', 'pens', 'pencils', 'markers')\n"
     ]
    }
   ],
   "source": [
    "#concatentation of tuples\n",
    "tup_2= ('books','pens','pencils','markers')\n",
    "tup_3 = tup_1+tup_2\n",
    "print(tup_3)"
   ]
  },
  {
   "cell_type": "code",
   "execution_count": 20,
   "id": "26b86e8b",
   "metadata": {},
   "outputs": [
    {
     "name": "stdout",
     "output_type": "stream",
     "text": [
      "apples oranges kiwi cherries\n"
     ]
    }
   ],
   "source": [
    "#Unpacking of tuples\n",
    "size = len(tup_1)\n",
    "a,b,c,d=tup_1\n",
    "print(a,b,c,d)\n"
   ]
  },
  {
   "cell_type": "code",
   "execution_count": 27,
   "id": "c5d1c639",
   "metadata": {},
   "outputs": [
    {
     "name": "stdout",
     "output_type": "stream",
     "text": [
      "Converting string to list: ['A', 'u', 't', 'o', 'n', 'o', 'm', 'o', 'u', 's', ' ', 'V', 'e', 'h', 'i', 'c', 'l', 'e', 's']\n",
      "\n",
      "converting string to tuple: ('A', 'u', 't', 'o', 'n', 'o', 'm', 'o', 'u', 's', ' ', 'V', 'e', 'h', 'i', 'c', 'l', 'e', 's')\n",
      "\n",
      "Convering list to string: ['apples', 'oranges', 'kiwi', 'cherries'] length 41\n",
      "\n",
      "[\n",
      "Convering list to tuple: ('apples', 'oranges', 'kiwi', 'cherries')\n",
      "\n",
      "Converting tuple to string: ('books', 'pens', 'pencils', 'markers') length 39\n",
      "\n",
      "COnverting tuple to list: ['books', 'pens', 'pencils', 'markers']\n",
      "\n"
     ]
    }
   ],
   "source": [
    "#Conversion between datatypes:\n",
    "input_string = \"Autonomous Vehicles\"\n",
    "input_list=['apples','oranges','kiwi','cherries']\n",
    "input_tuple= ('books','pens','pencils','markers')\n",
    "\n",
    "print(\"Converting string to list:\",list(input_string),end=\"\\n\\n\")\n",
    "# print(list(input_string)[0])\n",
    "print(\"converting string to tuple:\",tuple(input_string),end='\\n\\n')\n",
    "\n",
    "print(\"Convering list to string:\",str(input_list),\"length\",len(str(input_list)),end='\\n\\n')\n",
    "\n",
    "print(str(input_list)[0])\n",
    "\n",
    "print(\"Convering list to tuple:\",tuple(input_list),end='\\n\\n')\n",
    "\n",
    "print(\"Converting tuple to string:\",str(input_tuple),\"length\",len(str(input_tuple)),end='\\n\\n')\n",
    "\n",
    "print(\"COnverting tuple to list:\",list(input_tuple),end=\"\\n\\n\")\n"
   ]
  },
  {
   "cell_type": "code",
   "execution_count": 26,
   "id": "94ddc72e",
   "metadata": {},
   "outputs": [],
   "source": [
    "temp=[1,2,3]\n",
    "string= str(temp)"
   ]
  },
  {
   "cell_type": "markdown",
   "id": "6a589f38",
   "metadata": {},
   "source": [
    "#### Sets in Python: <br>\n",
    "\n",
    "A Set is an unordered collection data type that is iterable, mutable and has no duplicate elements. Python’s set class represents the mathematical notion of a set. The major advantage of using a set, as opposed to a list, is that it has a highly optimized method for checking whether a specific element is contained in the set. \n"
   ]
  },
  {
   "cell_type": "code",
   "execution_count": 29,
   "id": "81428b77",
   "metadata": {},
   "outputs": [
    {
     "name": "stdout",
     "output_type": "stream",
     "text": [
      "{'a', 'z', 'x', 'y'}\n",
      "After adding {'a', 'z', 'x', 'y'}\n"
     ]
    }
   ],
   "source": [
    "set_1={'x','y','z','a'}\n",
    "print(set_1)\n",
    "set_1.add('x')\n",
    "print(\"After adding\",set_1)"
   ]
  },
  {
   "cell_type": "code",
   "execution_count": 31,
   "id": "17b89546",
   "metadata": {},
   "outputs": [
    {
     "name": "stdout",
     "output_type": "stream",
     "text": [
      "False\n"
     ]
    }
   ],
   "source": [
    "print('b'in set_1) # in and notin"
   ]
  },
  {
   "cell_type": "markdown",
   "id": "daf38f86",
   "metadata": {},
   "source": [
    "Operators in sets:<br>\n",
    "\n",
    "key in s\tcontainment check <br>\n",
    "key not in s\tnon-containment check <br>\n",
    "s1 == s2\ts1 is equivalent to s2 <br>\n",
    "s1 != s2\ts1 is not equivalent to s2 <br>\n",
    "s1 <= s2\ts1 is subset of s2 <br>\n",
    "s1 < s2\ts1 is proper subset of s2 <br>\n",
    "s1 >= s2\ts1 is superset of s2 <br>\n",
    "s1 > s2\ts1 is proper superset of s2 <br>\n",
    "s1 | s2\tthe union of s1 and s2 <br>\n",
    "s1 & s2\tthe intersection of s1 and s2 <br>\n",
    "s1 – s2\tthe set of elements in s1 but not s2 <br>\n",
    "s1 ˆ s2\tthe set of elements in precisely one of s1 or s2<br>\n"
   ]
  },
  {
   "cell_type": "markdown",
   "id": "f53e578e",
   "metadata": {},
   "source": [
    "#### Dictionaries in Python:<br>\n",
    "\n",
    "Dictionary in Python is an unordered collection of data values, used to store data values like a map, which, unlike other data types which hold only a single value as an element. Since it is an unordered collection we don't have any indexing in dictionaries. Dictionary holds key:value pair i.e, a value is stored in a dictionary corresponding to a key. Values in a dictionary can be of any data type and can be duplicated, whereas keys can’t be repeated and must be immutable. \n",
    "\n"
   ]
  },
  {
   "cell_type": "code",
   "execution_count": null,
   "id": "b80e5b12",
   "metadata": {},
   "outputs": [],
   "source": [
    "\n",
    "\n",
    "Dict = {1: '3d_printing', 2: 'Laser_cutting', 3: 'Circuit'}\n",
    "print(Dict)\n",
    "  \n",
    "Dict_2 = {}\n",
    "print(\"Empty Dictionary: \")\n",
    "print(Dict_2)\n",
    "\n",
    "Dict_2[4]=\"CAD\"\n",
    "Dict[4]='CAD'\n",
    "print(Dict_2)\n",
    "print(\"Dict_1\",Dict)\n"
   ]
  },
  {
   "cell_type": "code",
   "execution_count": null,
   "id": "4a08acf7",
   "metadata": {},
   "outputs": [],
   "source": [
    "temp_dict={}\n",
    "temp_dict[(1,2,3)] =\"numbers\"\n",
    "print(temp_dict)\n",
    "temp_dict[\"3\"] = 'numbers'\n",
    "print(temp_dict)"
   ]
  },
  {
   "cell_type": "code",
   "execution_count": null,
   "id": "2d254995",
   "metadata": {},
   "outputs": [],
   "source": [
    "#Lists cannot be used as keys in dictionary. Strings and tuples can be used as key for dictionary.\n",
    "#Nesting of dictionaries can be done similar to Nesting of loops and tuple.\n",
    "main_dict={}\n",
    "main_dict[1]={}\n",
    "print(main_dict)\n",
    "main_dict[1][1]=\"sub_dict\"\n",
    "main_dict[1][2]='sub_dict_2'\n",
    "print(main_dict)\n"
   ]
  },
  {
   "cell_type": "code",
   "execution_count": null,
   "id": "934f31f8",
   "metadata": {},
   "outputs": [],
   "source": [
    "#Nesting example:\n",
    "Cluster_status={}\n",
    "for i in range(1):\n",
    "    Cluster_status[\"Team\"+str(i+1)]={}\n",
    "    \n",
    "    Cluster_status[\"Team\"+str(i+1)][\"3d_printing\"]=input(\"Have {0} completed 3d_printing\".format(\"Team\"+str(i+1)))\n",
    "    \n",
    "    \n",
    "    Cluster_status[\"Team\"+str(i+1)][\"Laser_cutting\"]=input(\"Have {0} completed Laser_Cutting\".format(\"Team\"+str(i+1)))\n",
    "    \n",
    "    Cluster_status[\"Team\"+str(i+1)][\"CAD_Model\"]=input(\"Have {0} completed CAD_Model\".format(\"Team\"+str(i+1)))\n",
    "    \n",
    "    Cluster_status[\"Team\"+str(i+1)][\"Circuit\"]=input(\"Have {0} completed Circuit\".format(\"Team\"+str(i+1)))\n",
    "    "
   ]
  },
  {
   "cell_type": "code",
   "execution_count": null,
   "id": "6d8a9c0c",
   "metadata": {},
   "outputs": [],
   "source": [
    "print((Cluster_status))\n",
    "#key_error"
   ]
  },
  {
   "cell_type": "code",
   "execution_count": null,
   "id": "ad05bad2",
   "metadata": {},
   "outputs": [],
   "source": [
    "#Accessing and updating element in dictionary\n",
    "\n",
    "#Methods of dictionaries\n",
    "\n",
    "#Observe the difference between get and direct access\n",
    "print(Dict.get(5,\"no key\"))\n",
    "print(Dict[3])\n",
    "\n",
    "print(Dict.items())\n",
    "print(Dict.keys())\n"
   ]
  },
  {
   "cell_type": "markdown",
   "id": "0183c732",
   "metadata": {},
   "source": [
    "clear() – Remove all the elements from the dictionary<br>\n",
    "copy() – Returns a copy of the dictionary<br>\n",
    "get() – Returns the value of specified key<br>\n",
    "items() – Returns a list containing a tuple for each key value pair<br>\n",
    "keys() – Returns a list containing dictionary’s keys<br>\n",
    "pop() – Remove the element with specified key<br>\n",
    "popitem() – Removes the last inserted key-value pair<br>\n",
    "update() – Updates dictionary with specified key-value pairs<br>\n",
    "values() – Returns a list of all the values of dictionary<br>"
   ]
  },
  {
   "cell_type": "code",
   "execution_count": null,
   "id": "53002983",
   "metadata": {},
   "outputs": [],
   "source": [
    "Dict.popitem()\n",
    "print(Dict)"
   ]
  },
  {
   "cell_type": "markdown",
   "id": "205e2e7b",
   "metadata": {},
   "source": [
    "#### Conditional statements in Python:<br>\n",
    "\n",
    "Conditional statements are defined based on Boolean outputs. The block of code to be executed based on a conditional statement should follow same indent in all the lines. Synatx of some conditional statements in given as:<br>\n",
    "\n",
    "###### syntax 1\n",
    "if ( condition is True) : <br>\n",
    "&emsp; Execute the code<br><br>\n",
    "###### syntax 2\n",
    "if ( condition is True) : <br>\n",
    "&emsp; Execute the code<br><br>\n",
    "else:<br>\n",
    "&emsp;Execute the code<br><br>\n",
    "###### syntax 3\n",
    "if ( condition is True) : <br>\n",
    "&emsp; Execute the code<br><br>\n",
    "elif(condition is True):<br>\n",
    "&emsp;Execute the code<br><br>\n",
    "else:<br>\n",
    "&emsp;Execute the code<br><br>\n"
   ]
  },
  {
   "cell_type": "code",
   "execution_count": null,
   "id": "715ba910",
   "metadata": {},
   "outputs": [],
   "source": [
    "#Examples for conditional statements"
   ]
  },
  {
   "cell_type": "markdown",
   "id": "f1775c99",
   "metadata": {},
   "source": [
    "#### Range function <br>\n",
    "Python range() function returns the sequence of the given number between the given range. range() allows the user to generate a series of numbers within a given range. Depending on how many arguments the user is passing to the function, user can decide where that series of numbers will begin and end as well as how big the difference will be between one number and the next.range() takes mainly three arguments.<br>\n",
    "\n",
    "start: integer starting from which the sequence of integers is to be returned<br>\n",
    "stop: integer before which the sequence of integers is to be returned. The range of integers end at stop – 1.<br>\n",
    "step: integer value which determines the increment between each integer in the sequence<br>\n",
    "\n",
    "All the arguments to the range function must be integers and step size cannot be zero."
   ]
  },
  {
   "cell_type": "code",
   "execution_count": null,
   "id": "e17a8548",
   "metadata": {},
   "outputs": [],
   "source": [
    "check_range=range(10,0,-2)\n",
    "print(check_range)\n",
    "print(type(check_range))\n",
    "for i in check_range:\n",
    "    print(i)"
   ]
  },
  {
   "cell_type": "markdown",
   "id": "15bad621",
   "metadata": {},
   "source": [
    "#### Enumerate function: <br>\n",
    "\n",
    "when dealing with iterators, we also get need to keep a count of iterations. Python eases the programmers’ task by providing a built-in function enumerate() for this task. Enumerate() method adds a counter to an iterable and returns it in a form of enumerating object. This enumerated object can then be used directly for loops or converted into a list of tuples using the list() method.<br>\n",
    "\n",
    "##### Syntax <br>\n",
    "enumerate(iterable, start=0)<br><br>\n",
    "\n",
    "Iterable: any object that supports iteration<br>\n",
    "Start: the index value from which the counter is to be started, by default it is 0<br>\n",
    "\n"
   ]
  },
  {
   "cell_type": "code",
   "execution_count": null,
   "id": "c3790bdc",
   "metadata": {},
   "outputs": [],
   "source": [
    "fruits_check=enumerate(Fruits)\n",
    "print(fruits_check)\n",
    "print(list(fruits_check))\n"
   ]
  },
  {
   "cell_type": "code",
   "execution_count": null,
   "id": "9e19f150",
   "metadata": {},
   "outputs": [],
   "source": [
    "print(Fruits)\n",
    "\n",
    "for i,fruit1 in enumerate(Fruits):\n",
    "    print(i,fruit1)"
   ]
  },
  {
   "cell_type": "code",
   "execution_count": null,
   "id": "202ac93d",
   "metadata": {},
   "outputs": [],
   "source": [
    "# print(Dict)\n",
    "\n",
    "# for i,key, in enumerate(Dict):\n",
    "#     print(i,key)"
   ]
  },
  {
   "cell_type": "markdown",
   "id": "9774f56f",
   "metadata": {},
   "source": [
    "#### Loops in Python:<br>\n",
    "\n",
    "We will be discussing about <br>\n",
    "- for\n",
    "- while\n",
    "- continue and break\n",
    "\n",
    "All the statements indented by the same number of character spaces after a programming construct are considered to be part of a single block of code. Python uses indentation as its method of grouping statements. <br>\n",
    "\n",
    "##### for loop:<br>\n",
    "For loops are used for sequential traversal. for loops are basicaaly used to access every element in a sequence. The syntax of for loop goes like:<br>\n",
    "&emsp;for iterator_var in sequence:<br>\n",
    "   &emsp;&emsp; statements(s)<br>\n",
    "   \n",
    "#### While loop: <br>\n",
    "\n",
    "In python, while loop is used to execute a block of statements repeatedly until a given condition is satisfied. And when the condition becomes false, the line immediately after the loop in the program is executed.<br>\n",
    "\n",
    "&emsp; while expression:<br>\n",
    "   &emsp;&emsp; statement(s)<br>\n",
    "\n",
    "Using else statement with while loops: As discussed above, while loop executes the block until a condition is satisfied. When the condition becomes false, the statement immediately after the loop is executed. \n",
    "The else clause is only executed when your while condition becomes false. If you break out of the loop, or if an exception is raised, it won’t be executed. <br>\n",
    "\n",
    "\n",
    "#### Loop Control Statements:<br>\n",
    "Loop control statements change execution from their normal sequence. When execution leaves a scope, all automatic objects that were created in that scope are destroyed. Python supports the following control statements. <br>\n",
    "\n",
    "- continue : It returns the control to the beginning of the loop.\n",
    "- break : It brings control out of the loop\n",
    "- pass : We use pass statement to write empty loops\n"
   ]
  },
  {
   "cell_type": "code",
   "execution_count": null,
   "id": "1308b128",
   "metadata": {},
   "outputs": [],
   "source": [
    "for i in range(len(Fruits)):\n",
    "    print(Fruits[i])"
   ]
  },
  {
   "cell_type": "code",
   "execution_count": null,
   "id": "8125203b",
   "metadata": {},
   "outputs": [],
   "source": [
    "#Examples of loops #Nesting # range "
   ]
  },
  {
   "cell_type": "code",
   "execution_count": null,
   "id": "5df4e12a",
   "metadata": {},
   "outputs": [],
   "source": [
    "#Example Programs:\n",
    "\n",
    "low = 1\n",
    "high = 1000\n",
    "\n",
    "print(\"Please think of a number between {} and {}\".format(low, high))\n",
    "input(\"Press ENTER to start\")\n",
    "\n",
    "guess = 1\n",
    "guess_limit =10\n",
    "for i in range(guess_limit):\n",
    "    guess = low + (high - low) // 2\n",
    "    high_low = input(\"My guess is {}. Should I guess higher or lower? \"\n",
    "                     \"Enter h or l, or c if my guess was correct\"\n",
    "                     .format(guess)).casefold()\n",
    "\n",
    "    if high_low == \"h\":\n",
    "        # Guess higher. The low end of the range becomes 1 greater than the guess.\n",
    "        low = guess +1\n",
    "\n",
    "    elif high_low == \"l\":\n",
    "        # Guess lower. The high end of the range becomes one less than the guess.\n",
    "        high = guess-1\n",
    "\n",
    "    elif high_low == \"c\":\n",
    "        print(\"I got it in {} guesses!\".format(guess))\n",
    "\n",
    "    else:\n",
    "        print(\"Please enter h, l or c\")"
   ]
  },
  {
   "cell_type": "markdown",
   "id": "e8382424",
   "metadata": {},
   "source": [
    "#### Functions in Python:<br>\n",
    "\n",
    "Python Functions are very easy to write in python and all non-trivial programs will have functions. Function names have the same rules as variable names. The function is a block of related statements designed to perform a computational, logical, or evaluative task. The idea is to put some commonly or repeatedly done tasks together and make a function so that instead of writing the same code again and again for different inputs, we can do the function calls to reuse code contained in it over and over again. <br>\n",
    "\n",
    "##### &emsp; &emsp; Syntax1:<br>\n",
    "&emsp; &emsp;&emsp; &emsp;def function_name(parameters):<br>\n",
    "&emsp; &emsp;&emsp; &emsp;&emsp;    \"\"\"docstring\"\"\"<br>\n",
    "&emsp; &emsp;&emsp; &emsp;&emsp;     # body of the function<br>\n",
    "&emsp; &emsp;&emsp; &emsp;&emsp;     return expression<br>\n",
    "\n",
    "##### &emsp; &emsp; Syntax2:<br>\n",
    "&emsp; &emsp;&emsp; &emsp;def function_name(parameter: data_type) -> return_type:<br>\n",
    "&emsp; &emsp;&emsp; &emsp;&emsp;    \"\"\"docstring\"\"\"<br>\n",
    "&emsp; &emsp;&emsp; &emsp;&emsp;     # body of the function<br>\n",
    "&emsp; &emsp;&emsp; &emsp;&emsp;     return expression<br>\n",
    "\n",
    "\n",
    "As mentioned before a pthon function can have any number of arguments including no arguments and also may or maynot return a value. "
   ]
  },
  {
   "cell_type": "code",
   "execution_count": null,
   "id": "078e6d4f",
   "metadata": {},
   "outputs": [],
   "source": [
    "#Simple Python function\n",
    "\n",
    "def intro():\n",
    "    print(\"Hi! Welcome to COSMOS\")\n",
    "    \n",
    "for i in range(5):\n",
    "    intro()"
   ]
  },
  {
   "cell_type": "code",
   "execution_count": null,
   "id": "4654a36c",
   "metadata": {},
   "outputs": [],
   "source": [
    "def sum_of_squares(num1,num2):\n",
    "    '''\n",
    "    num1 : any numeric datatype\n",
    "    num2 : any numeric datatype\n",
    "    \n",
    "    result: sum of squares of num1 and num2\n",
    "    '''\n",
    "    result = num1**2 + num2**2\n",
    "    print(result)\n",
    "    return result\n",
    "\n",
    "check_result =sum_of_squares(2,3)"
   ]
  },
  {
   "cell_type": "markdown",
   "id": "eb3fe298",
   "metadata": {},
   "source": [
    "#### Arguments in Python:<br>\n",
    "\n",
    "Arguments are the values passed inside the parenthesis of the function. A function can have any number of arguments separated by a comma. <br>\n",
    "##### Default argument: <br>\n",
    "&emsp; A default argument is a parameter that assumes a default value if a value is not provided in the function call for that argument. The following example illustrates Default arguments. <br>\n",
    "\n",
    "#### Keyword arguments<br>\n",
    "&emsp; The idea is to allow the caller to specify the argument name with values so that caller does not need to remember the order of parameters <br>"
   ]
  },
  {
   "cell_type": "code",
   "execution_count": null,
   "id": "883b9e70",
   "metadata": {},
   "outputs": [],
   "source": [
    "def sum_of_squares_2(num1:int,num2:int) ->int:\n",
    "    '''\n",
    "    num1 : any numeric datatype\n",
    "    num2 : any numeric datatype\n",
    "    \n",
    "    result: sum of squares of num1 and num2\n",
    "    '''\n",
    "    result = num1**2 + num2**2\n",
    "    return result\n",
    "\n",
    "sum_of_squares_2(2.34,3)"
   ]
  },
  {
   "cell_type": "code",
   "execution_count": null,
   "id": "2a1dd1fe",
   "metadata": {},
   "outputs": [],
   "source": [
    "def sum_of_powers(num1:int,num2:int ,exp=2,**kwargs) ->int:\n",
    "    '''\n",
    "    num1 : any numeric datatype\n",
    "    num2 : any numeric datatype\n",
    "    \n",
    "    result: sum of exp of num1 and num2\n",
    "    '''\n",
    "    for i,j in kwargs.items():\n",
    "        print(i,j)\n",
    "        num4=j\n",
    "    \n",
    "    result = num1**exp + num2**exp +num4*exp\n",
    "    \n",
    "    return result\n",
    "\n",
    "sum_of_powers(num1=2.25,num2=3,exp=3,additional=4)"
   ]
  },
  {
   "cell_type": "code",
   "execution_count": null,
   "id": "004e03d8",
   "metadata": {},
   "outputs": [],
   "source": [
    "def sum_of_powers_ordered(num1,num2,exp=2):\n",
    "    '''\n",
    "    num1 : any numeric datatype\n",
    "    num2 : any numeric datatype\n",
    "    \n",
    "    result: sum of exp of num1 and num2\n",
    "    '''\n",
    "    result = num1**(exp-1) + num2**exp\n",
    "    return result\n",
    "sum_of_powers_ordered(num2=3,num1=2,exp=2)\n",
    "\n",
    "#required arguments must always come before optional arguments.\n",
    "#"
   ]
  },
  {
   "cell_type": "code",
   "execution_count": null,
   "id": "3cbe2815",
   "metadata": {},
   "outputs": [],
   "source": [
    "# Fruits\n",
    "# Shopping"
   ]
  },
  {
   "cell_type": "markdown",
   "id": "05fee880",
   "metadata": {},
   "source": [
    "#### Variable length of arguments in Python:<br>\n",
    " We can pass a variable number of arguments to a function using special symbols. Using `*args` and `**kwargs` in Python. <br>\n",
    "- &emsp;&emsp;`*args` : non-keyword arguments \n",
    "- &emsp;&emsp;`**kwargs` : keyword arguments  \n",
    "\n",
    "The syntax is to use the symbol * to take in a variable number of arguments; by convention, it is often used with the word args.What `*args` allows you to do is take in more arguments than the number of formal arguments that you previously defined. With `*args`, any number of extra arguments can be tacked on to your current formal parameters .Using the `*`, the variable that we associate with the `*` becomes an iterable meaning you can do things like iterate over it. <br>\n",
    "\n",
    "The special syntax `**kwargs` in function definitions in python is used to pass a keyworded, variable-length argument list. A keyword argument is where you provide a name to the variable as you pass it into the function. One can think of the kwargs as being a dictionary that maps each keyword to the value that we pass alongside it. "
   ]
  },
  {
   "cell_type": "code",
   "execution_count": null,
   "id": "a14a6cd5",
   "metadata": {},
   "outputs": [],
   "source": [
    "#Examples of Errors ( arguments ,variable scope)\n",
    "\n",
    "sum_of_powers(2,3,3,3)\n"
   ]
  },
  {
   "cell_type": "code",
   "execution_count": null,
   "id": "0a35dbda",
   "metadata": {},
   "outputs": [],
   "source": [
    "\n",
    "output=10\n",
    "def change_variable_scope():\n",
    "    global output\n",
    "    input_num=25\n",
    "    output =15\n",
    "    return input_num\n",
    "    \n",
    "input_num=change_variable_scope()\n",
    "print(output)\n",
    "print(input_num)"
   ]
  },
  {
   "cell_type": "code",
   "execution_count": null,
   "id": "4db8e5e5",
   "metadata": {},
   "outputs": [],
   "source": [
    "#Examples\n",
    "\n",
    "'''\n",
    "Write a function that takes input arguments an integer n and string (either 'e' or 'o'). \n",
    "Return the sum of n even numbers if the input is e\n",
    "Return the sum of n odd numbers if the input is o\n",
    "if an incorrect string argument is used print \"INCORRECT Argument\"\n",
    "'''\n",
    "print(\"Create a function\")"
   ]
  },
  {
   "cell_type": "code",
   "execution_count": null,
   "id": "4a02de2a",
   "metadata": {},
   "outputs": [],
   "source": []
  },
  {
   "cell_type": "code",
   "execution_count": null,
   "id": "c97453bb",
   "metadata": {},
   "outputs": [],
   "source": [
    "def print_input(string,*args):\n",
    "    print(\"First\",string)\n",
    "    for i in args:\n",
    "        print(i**2)\n",
    "\n",
    "print_input(\"ucsd\",2,3,34,2,24,34,24,45)"
   ]
  },
  {
   "cell_type": "markdown",
   "id": "5aedde94",
   "metadata": {},
   "source": [
    "### NumPy"
   ]
  },
  {
   "cell_type": "markdown",
   "id": "737a16ae",
   "metadata": {},
   "source": [
    "An array is a collection of items stored at contiguous memory locations. The idea is to store multiple items of the same type together. This makes it easier to calculate the position of each element by simply adding an offset to a base value, i.e., the memory location of the first element of the array. There is a seperate module named array in Python which is not widely used instead we use a library called numpy which has hundreds of functions defined to peform optimal operations on arrays. Numpy is basically used to perform matrix operations in Python. An array of any dimension can be implemented in numpy but care should be taken when accessing the elements i.e, proper indexing and slicing operations are to be used"
   ]
  },
  {
   "cell_type": "code",
   "execution_count": null,
   "id": "ff34b097",
   "metadata": {},
   "outputs": [],
   "source": [
    "import numpy as np\n",
    "\n",
    "arr1 = np.array(([2,3,4],[3,4,5],[5,6,7]))\n",
    "\n",
    "print(arr1.shape,\"order of matrix\")\n",
    "print(arr1)"
   ]
  },
  {
   "cell_type": "code",
   "execution_count": null,
   "id": "08ba5d6e",
   "metadata": {},
   "outputs": [],
   "source": [
    "#1D array\n",
    "\n",
    "arr_1d = np.array(([2],[3],[4]))\n",
    "print(arr_1d.shape)\n",
    "print(arr_1d)\n"
   ]
  },
  {
   "cell_type": "code",
   "execution_count": null,
   "id": "b2b45d13",
   "metadata": {},
   "outputs": [],
   "source": [
    "#3d array\n",
    "arr_3d = np.array((([2,3],[1,2]),([1,3],[2,3])))\n",
    "print(arr_3d.shape)\n",
    "print(arr_3d)"
   ]
  },
  {
   "cell_type": "code",
   "execution_count": null,
   "id": "5820803f",
   "metadata": {},
   "outputs": [],
   "source": [
    "print(arr_3d[:,:,:])"
   ]
  }
 ],
 "metadata": {
  "kernelspec": {
   "display_name": "Python 3 (ipykernel)",
   "language": "python",
   "name": "python3"
  },
  "language_info": {
   "codemirror_mode": {
    "name": "ipython",
    "version": 3
   },
   "file_extension": ".py",
   "mimetype": "text/x-python",
   "name": "python",
   "nbconvert_exporter": "python",
   "pygments_lexer": "ipython3",
   "version": "3.8.8"
  }
 },
 "nbformat": 4,
 "nbformat_minor": 5
}
