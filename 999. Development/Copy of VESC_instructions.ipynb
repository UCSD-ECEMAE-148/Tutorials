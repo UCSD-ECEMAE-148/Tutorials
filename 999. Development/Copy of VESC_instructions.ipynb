{
 "cells": [
  {
   "cell_type": "code",
   "execution_count": null,
   "id": "da97c538",
   "metadata": {},
   "outputs": [],
   "source": [
    "\n",
    "import time\n",
    "\n",
    "\n",
    "class VESC:\n",
    "    ''' \n",
    "    VESC Motor controler using pyvesc\n",
    "    This is used for most electric scateboards.\n",
    "    \n",
    "    inputs: serial_port---- Serial device to use for communication (i.e. \"COM3\" or \"/dev/tty.usbmodem0\"\n",
    "    has_sensor=False------- default value from pyvesc (Whether or not the bldc motor is using a hall effect sens)\n",
    "    start_heartbeat=True----default value from pyvesc (Whether or not to automatically start the heartbeat thread that will keep commands\n",
    "                                alive.)\n",
    "    baudrate=115200--------- baudrate used for communication with VESC\n",
    "    timeout=0.05-------------time it will try before giving up on establishing connection(timeout for the serial communication)\n",
    "    \n",
    "    percent=.2--------------max percentage of the dutycycle that the motor will be set to\n",
    "    \n",
    "    In Donkey framework all these parameters can be configured in the myconfig.py file\n",
    "    outputs: none\n",
    "    \n",
    "    \n",
    "    \n",
    "    VESC class defines functions for controlling the steering(0-1) and throttle(as a percent of max allowed) \n",
    "    using the PyVesc library.\n",
    "    \n",
    "    Note that this depends on pyvesc, but using pip install pyvesc will create a pyvesc file that\n",
    "    can only set the speed, but not set the servo angle. \n",
    "    \n",
    "    Instead please use:\n",
    "    pip install git+https://github.com/LiamBindle/PyVESC.git@master\n",
    "    to install the pyvesc library\n",
    "    '''\n",
    "    def __init__(self, serial_port, percent=.2, has_sensor=False, start_heartbeat=True, baudrate=115200, timeout=0.05, steering_scale = 1.0, steering_offset = 0.0 ):\n",
    "        \n",
    "        try:\n",
    "            import pyvesc\n",
    "        except Exception as err:\n",
    "            print(\"\\n\\n\\n\\n\", err, \"\\n\")\n",
    "            print(\"please use the following command to import pyvesc so that you can also set\")\n",
    "            print(\"the servo position:\")\n",
    "            print(\"pip install git+https://github.com/LiamBindle/PyVESC.git@master\")\n",
    "            print(\"\\n\\n\\n\")\n",
    "            time.sleep(1)\n",
    "            raise\n",
    "        \n",
    "        assert percent <= 1 and percent >= -1,'\\n\\nOnly percentages are allowed for MAX_VESC_SPEED (we recommend a value of about .2) (negative values flip direction of motor)'\n",
    "        self.steering_scale = steering_scale\n",
    "        self.steering_offset = steering_offset\n",
    "        self.percent = percent\n",
    "        \n",
    "        try:\n",
    "            self.v = pyvesc.VESC(serial_port, has_sensor, start_heartbeat, baudrate, timeout)\n",
    "        except Exception as err:\n",
    "            print(\"\\n\\n\\n\\n\", err)\n",
    "            print(\"\\n\\nto fix permission errors\")\n",
    "            time.sleep(1)\n",
    "            raise\n",
    "            \n",
    "    ''' This particular file only shows the implementation involving the steering and throttle control from VESC\n",
    "     `VESC.py of the PYVesc repository can be referred for additional functionalities''' \n",
    "        \n",
    "    def run(self, angle, throttle):\n",
    "        \n",
    "        '''Input angle (0-1) and throttle (0 - 1)\n",
    "            Steering center is at an angle of 0.5 for ECE/MAE 148. The offset can be adjusted using steering offset\n",
    "            attribute'''\n",
    "        \n",
    "        self.v.set_servo((angle * self.steering_scale) + self.steering_offset)\n",
    "        self.v.set_duty_cycle(throttle*self.percent)\n",
    "        "
   ]
  },
  {
   "cell_type": "markdown",
   "id": "7dc6d4eb",
   "metadata": {},
   "source": [
    "Before trying to control the motor with VESC using a python script, the VESC module should be configured for the specific motor in application using the VESC Tool software."
   ]
  },
  {
   "cell_type": "code",
   "execution_count": null,
   "id": "ffc267ca",
   "metadata": {},
   "outputs": [],
   "source": [
    "'''Creating an instance of VESC class using the serial port parameter'''\n",
    "\n",
    "VESC_module = VESC('/dev/ttyACM0')\n",
    "\n",
    "'''Passing the values of angle and throttle required'''\n",
    "\n",
    "VESC_module.run(0.75,0.2)\n",
    "\n",
    "'This should cause the steering to turn left a little and throttle to start running'\n",
    "\n"
   ]
  },
  {
   "cell_type": "code",
   "execution_count": 2,
   "id": "0a89675f",
   "metadata": {},
   "outputs": [
    {
     "name": "stdout",
     "output_type": "stream",
     "text": [
      "[NbConvertApp] Converting notebook VESC_instructions.ipynb to script\n",
      "[NbConvertApp] Writing 3800 bytes to VESC_instructions.py\n"
     ]
    }
   ],
   "source": [
    "!jupyter nbconvert --to script VESC_instructions.ipynb --output VESC_instructions\n"
   ]
  },
  {
   "cell_type": "code",
   "execution_count": null,
   "id": "64bebb6c",
   "metadata": {},
   "outputs": [],
   "source": []
  }
 ],
 "metadata": {
  "kernelspec": {
   "display_name": "Python 3 (ipykernel)",
   "language": "python",
   "name": "python3"
  },
  "language_info": {
   "codemirror_mode": {
    "name": "ipython",
    "version": 3
   },
   "file_extension": ".py",
   "mimetype": "text/x-python",
   "name": "python",
   "nbconvert_exporter": "python",
   "pygments_lexer": "ipython3",
   "version": "3.8.8"
  }
 },
 "nbformat": 4,
 "nbformat_minor": 5
}
